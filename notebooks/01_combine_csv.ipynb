{
 "cells": [
  {
   "cell_type": "code",
   "execution_count": 5,
   "id": "63d84546-d366-40bb-89a8-7e4cc45cd429",
   "metadata": {},
   "outputs": [
    {
     "name": "stdout",
     "output_type": "stream",
     "text": [
      " Volume in drive C is SENOR0LUNLT0524\n",
      " Volume Serial Number is D2E4-FDEC\n",
      "\n",
      " Directory of C:\\Users\\SEFuDA\\OneDrive - Sony\\Documents\\Github\\borslabbet\\input\\trends\n",
      "\n",
      "2022-06-09  16:31    <DIR>          .\n",
      "2022-06-09  16:31    <DIR>          ..\n",
      "2022-06-09  16:27             3ÿ637 Nordiska aktier - Borslabbet.csv\n",
      "               1 File(s)          3ÿ637 bytes\n",
      "               2 Dir(s)   7ÿ151ÿ988ÿ736 bytes free\n"
     ]
    }
   ],
   "source": [
    "!dir \"..\\input\\trends\""
   ]
  },
  {
   "cell_type": "code",
   "execution_count": 54,
   "id": "f18b6482-a60a-46bd-a9f3-0ed1a825afb2",
   "metadata": {},
   "outputs": [],
   "source": [
    "import glob\n",
    "from collections import Counter\n",
    "\n",
    "import pandas as pd"
   ]
  },
  {
   "cell_type": "code",
   "execution_count": 55,
   "id": "23e52de6-7a5c-41e4-9d43-8bf9fdbd8a0e",
   "metadata": {},
   "outputs": [
    {
     "data": {
      "text/plain": [
       "Counter({'Siem Offshore': 1,\n",
       "         'DOF': 1,\n",
       "         'Shelf Drilling': 1,\n",
       "         'OKEA': 1,\n",
       "         'Norwegian Energy': 1,\n",
       "         'Eidesvik Offshore': 1,\n",
       "         'International Petroleum': 1,\n",
       "         'Belships': 1,\n",
       "         'Arctic Paper': 1,\n",
       "         'PGS': 1})"
      ]
     },
     "execution_count": 55,
     "metadata": {},
     "output_type": "execute_result"
    }
   ],
   "source": [
    "def get_top_ten(csv_path):\n",
    "    df = pd.read_csv(csv_path)\n",
    "    return [x for _, x in df.head(10)[\"Bolagsnamn\"].items()]\n",
    "\n",
    "\n",
    "csv_files = glob.glob(\"../input/momentum/*\")\n",
    "company_list = list()\n",
    "for csv_path in csv_files:\n",
    "    company_list += get_top_ten(csv_path)\n",
    "Counter(company_list)"
   ]
  },
  {
   "cell_type": "code",
   "execution_count": 58,
   "id": "663b22b6-5d14-4314-891e-5771d31d03c8",
   "metadata": {},
   "outputs": [],
   "source": [
    "total_money_to_spend = 20000\n",
    "company_counts = Counter(company_list)\n",
    "companies = set(company_list)\n",
    "amount_to_spend = dict()\n",
    "total = len(company_list)\n",
    "for company in companies:\n",
    "    amount_to_spend[company] = total_money_to_spend * (company_counts[company] / total)"
   ]
  },
  {
   "cell_type": "code",
   "execution_count": 59,
   "id": "61bff04e-c000-414a-bf53-3343fd327e4b",
   "metadata": {},
   "outputs": [
    {
     "data": {
      "text/plain": [
       "{'International Petroleum': 2000.0,\n",
       " 'Shelf Drilling': 2000.0,\n",
       " 'Norwegian Energy': 2000.0,\n",
       " 'Belships': 2000.0,\n",
       " 'OKEA': 2000.0,\n",
       " 'DOF': 2000.0,\n",
       " 'PGS': 2000.0,\n",
       " 'Siem Offshore': 2000.0,\n",
       " 'Eidesvik Offshore': 2000.0,\n",
       " 'Arctic Paper': 2000.0}"
      ]
     },
     "execution_count": 59,
     "metadata": {},
     "output_type": "execute_result"
    }
   ],
   "source": [
    "amount_to_spend"
   ]
  },
  {
   "cell_type": "code",
   "execution_count": null,
   "id": "3000daf3-a6aa-4dd8-8e23-c508aeb8eb49",
   "metadata": {},
   "outputs": [],
   "source": []
  },
  {
   "cell_type": "code",
   "execution_count": null,
   "id": "2e940db6-7391-46cc-8311-e40307400ac2",
   "metadata": {},
   "outputs": [],
   "source": []
  }
 ],
 "metadata": {
  "kernelspec": {
   "display_name": "Python 3",
   "language": "python",
   "name": "python3"
  },
  "language_info": {
   "codemirror_mode": {
    "name": "ipython",
    "version": 3
   },
   "file_extension": ".py",
   "mimetype": "text/x-python",
   "name": "python",
   "nbconvert_exporter": "python",
   "pygments_lexer": "ipython3",
   "version": "3.10.4"
  }
 },
 "nbformat": 4,
 "nbformat_minor": 5
}
